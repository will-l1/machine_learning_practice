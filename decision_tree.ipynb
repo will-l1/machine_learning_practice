{
  "nbformat": 4,
  "nbformat_minor": 0,
  "metadata": {
    "colab": {
      "provenance": []
    },
    "kernelspec": {
      "name": "python3",
      "display_name": "Python 3"
    },
    "language_info": {
      "name": "python"
    }
  },
  "cells": [
    {
      "cell_type": "markdown",
      "source": [
        "<center>\n",
        "<h1>CSCI3151 - Foundations of Machine Learning - Fall 2024</h1>\n",
        "<h2>Assignment 2</h2>\n",
        "</center>\n",
        "\n",
        "\n",
        "**Due on: 27 September at 23:59 ADT**\n",
        "\n",
        "- **Grade Period**: There is a 5-hour grace period after the deadline for technical issues.\n",
        "- **Late Submissions:** You can submit the assignment up to 2 days late with a 20% penalty applied to your grade.\n",
        "\n",
        "[Assignment Submission Instructions as given on BrightSpace](https://dal.brightspace.com/d2l/le/content/342520/viewContent/4477501/View)"
      ],
      "metadata": {
        "id": "05l7ZiH8QMcK"
      }
    },
    {
      "cell_type": "markdown",
      "source": [
        "# Question 1: Working with Joint Probabilities\n",
        "\n",
        "Chris is a student’s whose performance on a math test depends on two factors: whether they studied and whether they were well-rested from the night before.\n",
        "\n",
        "Let $S$ represent whether Chris studied or not.   \n",
        "Let $R$ represent if Chris was well-rested or not.   \n",
        "Let $G$ represent whether Chris got a good mark.  \n",
        "\n",
        "Suppose we know the following:\n",
        "\n",
        "* $P(G | S) = 0.8$, i.e. the probability of getting good mark is 0.8  if Chris studied, regardless of whether they were well-rested.   \n",
        "* $P(G | \\neg S) = 0.3$, i.e. the probability of getting a good mark is 0.3 if they did not study, regardless of whether Chris was well-rested.   \n",
        "* $P(R) = 0.5$, i.e. the probability they are well-rested is 0.5.   \n",
        "* $P(S, R, G) = 0.4$.   \n",
        "* $P( \\neg S | R) = 0.$   \n",
        "* $P(S , \\neg R) = 0. $   \n",
        "* $P( \\neg S) = 0.5$, i.e. the probability that they did not study is 0.5.   \n",
        "\n"
      ],
      "metadata": {
        "id": "lXiTpWN4OfO2"
      }
    },
    {
      "cell_type": "markdown",
      "source": [
        "\n",
        "\n",
        "## Question 1.1\n",
        "Each of the above statement corresponds to some constraint about the rows in the **table below**. For each of the above statements, write down the contraint that it implies.\n",
        "\n",
        "For simplicity, just use the row label, e.g. (a) can refer to \"the value in row (a)\", (b) can refer to \"the value in row (b)\".  For example, the last line implies the following:\n",
        "\n",
        "* $P( \\neg S) = 0.5$ $\\implies$ $(a)+(b)+(c)+(d)=0.5$.\n",
        "\n"
      ],
      "metadata": {
        "id": "5n4s-ozs6Y_3"
      }
    },
    {
      "cell_type": "markdown",
      "source": [
        "### Answer 1.1 [3 marks]\n",
        "\n",
        "Fill your answers in below:\n",
        "\n",
        "* $P(G | S) = 0.8$ $\\implies((f)+(h))/((e)+(f)+(g)+(h))$\n",
        "\n",
        "*  $P(G | \\neg S) = 0.3$ $\\implies((b)+(d))/((a)+(b)+(c)+(d))$\n",
        "\n",
        "* $P(R) = 0.5$ $\\implies(c)+(d)+(g)+(h)$\n",
        "\n",
        "* $P(S, R, G) = 0.4$ $\\implies(h)$\n",
        "\n",
        "* $P(\\neg S | R) = 0$ $\\implies((c)+(d))/((c)+(d)+(g)+(h))$\n",
        "\n",
        "* $P(S, \\neg R) = 0$ $\\implies(e)+(f)$\n"
      ],
      "metadata": {
        "id": "ZcrAnxxK6kRf"
      }
    },
    {
      "cell_type": "markdown",
      "source": [
        "\n",
        "## Question 1.2\n",
        "Once you have listed all the constraints for the above given statements, then use those constraints to help you\n",
        "fill in the following joint probability table.\n",
        "\n"
      ],
      "metadata": {
        "id": "rX83jC7A6f5K"
      }
    },
    {
      "cell_type": "markdown",
      "source": [
        "### Answer 1.2 : Fill in this table [4 marks]\n",
        "\\\n",
        "\\begin{array}{||c|c|c|c|c||}\n",
        "\\hline \\hline\n",
        "row & S & R & G & P(S,R,G) \\\\\n",
        "\\hline\n",
        "\\hline\n",
        "(a) & 0 & 0 & 0 & 0.35\\\\\n",
        "\\hline\n",
        "(b) & 0 & 0 & 1 & 0.15 \\\\\n",
        "\\hline\n",
        "(c) & 0 & 1 & 0 &  0\\\\\n",
        "\\hline\n",
        "(d) & 0 & 1 & 1 & 0 \\\\\n",
        "\\hline\n",
        "(e) & 1 & 0 & 0 &  0\\\\\n",
        "\\hline\n",
        "(f) & 1 & 0 & 1 &  0\\\\\n",
        "\\hline\n",
        "(g) & 1 & 1 & 0 & 0.1 \\\\\n",
        "\\hline\n",
        "(h) & 1 & 1 & 1 &  0.4\\\\\n",
        "\\hline\n",
        "\\end{array}\n",
        "\n"
      ],
      "metadata": {
        "id": "n1X17yYA7GnG"
      }
    },
    {
      "cell_type": "markdown",
      "source": [
        "\n",
        "\n",
        "\n",
        "## Question 1.3\n",
        "\n",
        "(a) Is doing well on the test conditionally independent of well-restedness, if you know whether Chris studied? Prove/confirm your answer using the definition of conditional independence.\n",
        "\n",
        "(b) Can you explain intuitively the relationship between the 3 variables? That is, how is it that doing well appears to depend very much on well-restedness, yet doing well and well-restedness are conditionally independent given the studying? *Hint: the explanation should be very simple.*\n",
        "\n"
      ],
      "metadata": {
        "id": "bJvsOicH7VRQ"
      }
    },
    {
      "cell_type": "markdown",
      "source": [
        "### Answer 1.3 [2 marks]\n",
        "\n",
        "(a): For $P(R,G|S)=P(R|S)*P(G|S)$.\n",
        "Therefore for $S=0, P(G|S)=0.3, P(R|S)=0, P(R,G|S)=0=0*0.3$.\n",
        "For $S=1, P(G|S)=0.8, P(R|S)=1, P(R,G|S)=0.8=1*0.8$.<br>\n",
        "Therefore, doing well on the test is conditionally independent from well-restedness. Since $P(R,G|S)=P(R|S)*P(G|S)$.\n",
        "<br>\n",
        "\n",
        "(b): In the table we can see that Chris always studies if he is well-rested. And Chris never rest well if he did not study. Therefore the state of rest only effects the state of study. And study is the only factor that is effecting the grades.\n"
      ],
      "metadata": {
        "id": "5fVY3xkS7Xq2"
      }
    },
    {
      "cell_type": "markdown",
      "source": [
        "---\n",
        "\n",
        "# Question 2: Entropy of a Binary Variable\n",
        "\n",
        "Consider a binary random variable $X$, which can take two possible values (e.g., in a coin flip). The outcomes of $X$ are either $0$ or $1$. If we sample a value $x$ from $X$, then $x \\in \\{0, 1\\}$.\n",
        "\n",
        "You are given that the probability of $X = 0$ is $P(X=0) = a$. Based on this information, determine the probability of $X = 1$, i.e., $P(X=1)$.\n",
        "\n",
        "Next, use this information to plot a curve that shows how the entropy of the system changes as $a$ varies. Entropy is a measure of uncertainty in the system and is defined as the expected value of $-\\log_2(p(x))$ over the distribution.\n",
        "\n",
        "To summarize, your task is to:\n",
        "\n",
        "1. Express $P(X=1)$ in terms of $a$.\n",
        "2. Plot the entropy as a function of $a$, with $a$ on the x-axis and the entropy on the y-axis.\n",
        "\n",
        "To complete this task:\n",
        "- Use the `np.linspace` function to sample values of $a$ between 0 and 1.\n",
        "- Plot the entropy values against the corresponding values of $a$ using `matplotlib.pyplot.plot`.\n",
        "- Ensure that the number of samples is greater than 100 for a smooth curve."
      ],
      "metadata": {
        "id": "mEsUwqMtBYNE"
      }
    },
    {
      "cell_type": "markdown",
      "source": [
        "### Answer 2 [3 marks]"
      ],
      "metadata": {
        "id": "ZADE2JHiYfkZ"
      }
    },
    {
      "cell_type": "code",
      "source": [
        "# Your code goes here\n",
        "import numpy as np\n",
        "import matplotlib.pyplot as plt\n",
        "\n",
        "print(\"P(X=1) = 1-a where 1>=a>=0\")\n",
        "\n",
        "num = 100\n",
        "a = np.linspace(0, 1, num)\n",
        "array = []\n",
        "for val in a:\n",
        "  if val == 1 or val == 0:\n",
        "    result = 0\n",
        "  else:\n",
        "    result = -(val*np.log2(val)+(1-val)*np.log2(1-val))\n",
        "  array.append(result)\n",
        "\n",
        "y = np.array(array)\n",
        "plt.plot(a,y)\n",
        "plt.grid(True)\n",
        "plt.show()"
      ],
      "metadata": {
        "id": "QdY7yYEXMGzN",
        "colab": {
          "base_uri": "https://localhost:8080/",
          "height": 447
        },
        "outputId": "adad5bb4-4e79-4b48-e802-efebc22699c2"
      },
      "execution_count": 4,
      "outputs": [
        {
          "output_type": "stream",
          "name": "stdout",
          "text": [
            "P(X=1) = 1-a where 1>=a>=0\n"
          ]
        },
        {
          "output_type": "display_data",
          "data": {
            "text/plain": [
              "<Figure size 640x480 with 1 Axes>"
            ],
            "image/png": "[encoded data removed]"
          },
          "metadata": {}
        }
      ]
    },
    {
      "cell_type": "markdown",
      "source": [
        "---\n",
        "\n",
        "# Question 3: Computing Information Gain\n",
        "\n",
        "This question is just about calculating the information gain for a given split and then choosing a better split based on this information. Make sure you show you calculations and explain what you are doing."
      ],
      "metadata": {
        "id": "Rdwf-XzuWEgE"
      }
    },
    {
      "cell_type": "markdown",
      "source": [
        "---\n",
        "## Question 3.1\n",
        "\n",
        "Calculate the entropy and information gain to make a decision on which split is better. Please show your work and select a split at the end of your answer.\n",
        "\n",
        "![entropy-1.jpg](data:image/jpeg;base64,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)"
      ],
      "metadata": {
        "id": "cbmDhtorWU2m"
      }
    },
    {
      "cell_type": "markdown",
      "source": [
        "### Answer 3.1 [3 marks]\n",
        "\n",
        "Total entropy:<br>\n",
        "Possiblity of square $P(S) = 5/8 = 0.625$;<br>\n",
        "Possiblity of circle $P(C) = 3/8 = 0.375$;<br>\n",
        "Hence the entropy is $H(total)=-P(S)*\\log_{2}P(S)-P(C)*\\log_{2}P(C)$<br>\n",
        "Hence $H(total)=0.954434002924965$\n",
        "\n",
        "Spilt 1:<br>\n",
        "Most part of the circle is on the right side so the circle on the line will be counted as right.<br>\n",
        "Left:<br>\n",
        "$P(S) = 1,P(C) = 0$<br>\n",
        "Hence the entropy is $H(left)=-0*\\log_{2}0-1*\\log_{2}1=0$<br>\n",
        "Right:<br>\n",
        "$P(S) = 0.4,P(C) = 0.6$<br>\n",
        "Hence the entropy is $H(right)=-0.4*\\log_{2}0.4-0.6*\\log_{2}0.6=0.9709505944546686$<br>\n",
        "Hence the entropy is $H(1)=3/8*P(left)+5/8*P(right)=0.6068441215341679$<br>\n",
        "Hence the IG is $IG(1)=H(total)-H(1)=0.34758988139079716$<br>\n",
        "<br><br>\n",
        "\n",
        "Spilt 2:<br>\n",
        "Up:<br>\n",
        "$P(S) = 0.6,P(C) = 0.4$<br>\n",
        "Hence the entropy is $H(up)=-0.4*\\log_{2}0.4-0.6*\\log_{2}0.6=0.9709505944546686$<br>\n",
        "Down:<br>\n",
        "$P(S) = 2/3,P(C) = 1/3$<br>\n",
        "Hence the entropy is $H(down)=-1/3*\\log_{2}1/3-2/3*\\log_{2}2/3=0.9182958340544896$<br>\n",
        "Hence the entropy is $H(2)=3/8*P(down)+5/8*P(up)=0.9512050593046015$<br>\n",
        "Hence the IG is $IG(2)=H(total)-H(2)=0.0032289436203635224$<br>\n",
        "<br>\n",
        "Hence $IG(1)>IG(2),$ Hence spilt 1 is better."
      ],
      "metadata": {
        "id": "PdlmW8QSYGrC"
      }
    },
    {
      "cell_type": "code",
      "source": [
        "#calculator\n",
        "import numpy as np\n",
        "\n",
        "def entropy(a):\n",
        "    return - (a * np.log2(a) + (1 - a) * np.log2(1 - a))\n",
        "\n",
        "print(-entropy(1/3)*3/8-entropy(0.4)*5/8)\n"
      ],
      "metadata": {
        "colab": {
          "base_uri": "https://localhost:8080/"
        },
        "id": "KNoHwpoIM9sS",
        "outputId": "7be5d426-246a-431f-9b4c-20713e6c361c"
      },
      "execution_count": 16,
      "outputs": [
        {
          "output_type": "stream",
          "name": "stdout",
          "text": [
            "-0.9512050593046015\n"
          ]
        }
      ]
    },
    {
      "cell_type": "markdown",
      "source": [
        "---\n",
        "\n",
        "# Question 3.2\n",
        "\n",
        "Calculate the entropy and information gain to make a decision on which split is better. Please show your work and select a split at the end of your answer.\n",
        "\n",
        "![entropy-2.jpg](data:image/jpeg;base64,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)"
      ],
      "metadata": {
        "id": "pzAF1g_VXgaB"
      }
    },
    {
      "cell_type": "code",
      "source": [
        "#calculator\n",
        "import numpy as np\n",
        "\n",
        "def entropy(a):\n",
        "    return -a * np.log2(a)\n",
        "\n",
        "-(entropy(1/3)+entropy(.5)+entropy(1/6))*.6-1.5*.4"
      ],
      "metadata": {
        "colab": {
          "base_uri": "https://localhost:8080/"
        },
        "id": "_5w2dDOBbnMT",
        "outputId": "d1bd7738-48c8-46a6-e181-e5af7b6a90df"
      },
      "execution_count": 25,
      "outputs": [
        {
          "output_type": "execute_result",
          "data": {
            "text/plain": [
              "-1.475488750216347"
            ]
          },
          "metadata": {},
          "execution_count": 25
        }
      ]
    },
    {
      "cell_type": "markdown",
      "source": [
        "### Answer 3.2 [3 marks]\n",
        "\n",
        "Total entropy:<br>\n",
        "Possiblity of square $P(S) = 4/10 = 0.4$;<br>\n",
        "Possiblity of circle $P(C) = 3/10 = 0.3$;<br>\n",
        "Possiblity of diamond $P(D) = 3/10 = 0.3$;<br>\n",
        "Hence the entropy is $H(total)=-P(S)*\\log_{2}P(S)-P(C)*\\log_{2}P(C)-P(D)*\\log_{2}P(D)$<br>\n",
        "Hence $H(total)=1.5709505944546684$\n",
        "\n",
        "Spilt 1:<br>\n",
        "Most part of the circle is on the left side so the circle on the line will be counted as left.<br>\n",
        "Left:<br>\n",
        "$P(S) = 0.4,P(C) = 0.6,P(D)=0$<br>\n",
        "Hence the entropy is $H(left)=-0.4*\\log_{2}0.4-0.6*\\log_{2}0.6-0*\\log_{2}0=0.9709505944546686$<br>\n",
        "Right:<br>\n",
        "$P(S) = 0.4,P(C) = 0,P(D)=0.6$<br>\n",
        "Hence the entropy is $H(right)=-0.4*\\log_{2}0.4-0.6*\\log_{2}0.6-0*\\log_{2}0=0.9709505944546686$<br>\n",
        "Hence the entropy is $H(1)=1/2*P(left)+1/2*P(right)=0.9709505944546686$<br>\n",
        "Hence the IG is $IG(1)=H(total)-H(1)=0.5999999999999998$<br>\n",
        "<br><br>\n",
        "\n",
        "Spilt 2:<br>\n",
        "Up:<br>\n",
        "$P(S) = 0.25,P(C) = 0.5,P(D)=0.25$<br>\n",
        "Hence the entropy is $H(up)=-0.5*\\log_{2}0.5-0.25*\\log_{2}0.25-0.25*\\log_{2}0.25=1.5$<br>\n",
        "Down:<br>\n",
        "$P(S) = 1/2,P(C) = 1/6,P(D)=1/3$<br>\n",
        "Hence the entropy is $H(down)=-1/3*\\log_{2}1/3-1/2*\\log_{2}1/2-1/6*\\log_{2}1/6=1.4591479170272448$<br>\n",
        "Hence the entropy is $H(2)=6/10*P(down)+4/10*P(up)=1.475488750216347$<br>\n",
        "Hence the IG is $IG(2)=H(total)-H(2)=0.09546184423832149$<br>\n",
        "<br>\n",
        "Hence $IG(1)>IG(2),$ Hence spilt 1 is better."
      ],
      "metadata": {
        "id": "n-jAz6tRYR8I"
      }
    },
    {
      "cell_type": "markdown",
      "source": [
        "---\n",
        "\n",
        "# Numpy Help [1 mark for free because we trust you will look at this, up to max of 100% on the assignment]\n",
        "\n",
        "Before the next question, I would like to help you optimize your code a little. For-loops are REALLY slow in python and you should avoid them as much as possible. You should use numpy function to do math like sum, mean, matrix multiplication, etc. Numpy functions use C in the under the hood to do the math.\n",
        "\n",
        "**This entire section is just a numpy guide, you do not have to answer any questions**."
      ],
      "metadata": {
        "id": "gRtovyqZNuZj"
      }
    },
    {
      "cell_type": "code",
      "source": [
        "import numpy as np\n",
        "import time\n",
        "\n",
        "# Pure Python (BAD)\n",
        "n = 1000000\n",
        "a = list(range(n))\n",
        "b = list(range(n))\n",
        "start_time = time.time()\n",
        "for _ in range(40):\n",
        "    # I just run it 40 times to increase compute time\n",
        "    result = [x + y for x, y in zip(a, b)]\n",
        "end_time = time.time()\n",
        "print(\"Pure Python time:\", end_time - start_time)\n",
        "\n",
        "# Numpy (GOOD)\n",
        "a_np = np.array(a)\n",
        "b_np = np.array(b)\n",
        "start_time = time.time()\n",
        "for _ in range(40):\n",
        "    # I just run it 40 times to increase compute time\n",
        "    result_np = a_np + b_np\n",
        "end_time = time.time()\n",
        "print(\"Numpy time:\", end_time - start_time)\n"
      ],
      "metadata": {
        "id": "7-w8m4w-OElc",
        "outputId": "a120da22-e739-49e7-c300-db0fdb3ffece",
        "colab": {
          "base_uri": "https://localhost:8080/"
        }
      },
      "execution_count": null,
      "outputs": [
        {
          "output_type": "stream",
          "name": "stdout",
          "text": [
            "Pure Python time: 16.662969827651978\n",
            "Numpy time: 0.0846712589263916\n"
          ]
        }
      ]
    },
    {
      "cell_type": "markdown",
      "source": [
        "### Useful Numpy Tricks\n",
        "\n",
        "These are tricks/functions you will most likely need for the rest of the assignment. This may also be a good thing to store for future assignments!\n",
        "\n",
        "Key concepts:\n",
        "\n",
        "1. **Broadcasting**: `(array / value)` divides each element in the array by the given value.\n",
        "2. **Boolean Indexing**: `x_array[ y_array > 0 ]`\n",
        "    1. `y_array > 0` creates a boolean array where each element is `True` if the condition is satisfied and `False` otherwise.\n",
        "    2. `x_array[...]` uses this boolean array to filter the elements of `x_array`. Only the elements corresponding to `True` in the boolean array are selected.\n",
        "3. **Higher Dimensional Indexing**: `X[:, 0]` gets all rows from `X` but only gets column `0`. `X[0, :]` gets entire row for index `0`."
      ],
      "metadata": {
        "id": "tQxX9K7BOvT8"
      }
    },
    {
      "cell_type": "code",
      "source": [
        "import numpy as np\n",
        "\n",
        "# you can skip this if you are familar with numpy\n",
        "\n",
        "# 1. np.bincount\n",
        "# Imagine we are tracking the number of cars of different colors (represented as integers: 0 = red, 1 = blue, 2 = green)\n",
        "car_colors = np.random.randint(0, 3, size=10)  # Randomly assigning 10 cars to 3 different colors\n",
        "print(\"Car colors:\", car_colors)\n",
        "color_count = np.bincount(car_colors)\n",
        "print(\"Count of each color:\", color_count)  # Shows how many cars of each color are present\n",
        "print()\n",
        "\n",
        "# 2. Probabilities from bincount\n",
        "# Calculate the probability of each color occurring\n",
        "color_probabilities = color_count / len(car_colors)\n",
        "print(\"Probability of each color:\", color_probabilities)\n",
        "print()\n",
        "\n",
        "# 3. np.log2\n",
        "non_zero_probs = color_probabilities[color_probabilities > 0]  # We skip zero probabilities to avoid log(0) issues\n",
        "entropy = -np.sum(non_zero_probs * np.log2(non_zero_probs))\n",
        "print(\"Entropy of car color distribution:\", entropy)\n",
        "print()\n",
        "\n",
        "# 4. np.unique\n",
        "# Let's say we want to look at the unique values of people's ages in a dataset\n",
        "ages = np.random.randint(18, 65, size=10)  # Randomly generated ages of 10 people\n",
        "print(\"Ages:\", ages)\n",
        "unique_ages = np.unique(ages)  # Get unique ages from the list\n",
        "print(\"Unique ages:\", unique_ages)\n",
        "print()\n",
        "\n",
        "# 5. Logical conditions (boolean indexing)\n",
        "# We want to filter out people who are older than 40\n",
        "people_older_than_40 = ages[ages > 40]\n",
        "print(\"People older than 40:\", people_older_than_40)\n",
        "print()\n",
        "\n",
        "# 6. Indexing with a boolean mask\n",
        "# Let's imagine we have a matrix of exam scores (10 students, 3 subjects)\n",
        "scores = np.random.randint(50, 100, size=(10, 3))\n",
        "print(\"Exam scores:\\n\", scores)\n",
        "# Now we want to filter scores of students who scored more than 70 in the first subject\n",
        "high_scores_first_subject = scores[scores[:, 0] > 70]\n",
        "print(\"Students scoring more than 70 in the first subject:\\n\", high_scores_first_subject)\n",
        "print()\n",
        "\n",
        "# 7. np.argmax and np.bincount\n",
        "# Suppose we want to find out which exam subject (column) has the most consistent scores (most frequent score)\n",
        "subject_scores = scores[:, 0]  # First subject's scores\n",
        "most_frequent_score = np.argmax(np.bincount(subject_scores))\n",
        "print(\"Most frequent score in the first subject:\", most_frequent_score)\n",
        "print()\n",
        "\n",
        "# 8. np.array\n",
        "# Imagine we want to tag all scores that are higher than 85 in the first subject as \"Excellent\"\n",
        "excellent_scores = np.array(['Excellent' if score > 85 else 'Not Excellent' for score in scores[:, 0]])\n",
        "print(\"Tagging of scores (first subject):\", excellent_scores)\n",
        "print()\n"
      ],
      "metadata": {
        "id": "QlS0BdEuOt9C",
        "colab": {
          "base_uri": "https://localhost:8080/"
        },
        "outputId": "9b22ca37-6bc1-4e48-9c8b-9c9d7a4fdd76"
      },
      "execution_count": 27,
      "outputs": [
        {
          "output_type": "stream",
          "name": "stdout",
          "text": [
            "Car colors: [2 1 0 2 1 1 1 2 1 1]\n",
            "Count of each color: [1 6 3]\n",
            "\n",
            "Probability of each color: [0.1 0.6 0.3]\n",
            "\n",
            "Entropy of car color distribution: 1.295461844238322\n",
            "\n",
            "Ages: [32 22 53 39 64 48 21 26 54 37]\n",
            "Unique ages: [21 22 26 32 37 39 48 53 54 64]\n",
            "\n",
            "People older than 40: [53 64 48 54]\n",
            "\n",
            "Exam scores:\n",
            " [[53 70 84]\n",
            " [92 92 53]\n",
            " [51 87 69]\n",
            " [82 63 77]\n",
            " [54 63 89]\n",
            " [86 62 59]\n",
            " [55 99 64]\n",
            " [78 95 61]\n",
            " [99 79 57]\n",
            " [67 87 65]]\n",
            "Students scoring more than 70 in the first subject:\n",
            " [[92 92 53]\n",
            " [82 63 77]\n",
            " [86 62 59]\n",
            " [78 95 61]\n",
            " [99 79 57]]\n",
            "\n",
            "Most frequent score in the first subject: 51\n",
            "\n",
            "Tagging of scores (first subject): ['Not Excellent' 'Excellent' 'Not Excellent' 'Not Excellent'\n",
            " 'Not Excellent' 'Excellent' 'Not Excellent' 'Not Excellent' 'Excellent'\n",
            " 'Not Excellent']\n",
            "\n"
          ]
        }
      ]
    },
    {
      "cell_type": "markdown",
      "source": [
        "---\n",
        "\n",
        "# Question 4: Building a Decision Tree [10 marks]\n",
        "\n",
        "This question will walk you through building a decision tree just using the `numpy` library. Each of the sub questions will ask you to build a function or small portion which then will come together in the end.\n",
        "\n",
        "There will be an indication when you are required to provide your code with a comment. **Please read the instructions carefully.**\n",
        "\n",
        "### Overview\n",
        "\n",
        "Let's first understand the process of building a decision tree:\n",
        "\n",
        "1. At each node we pick a `feature` and a `threshold` that we can use to split the dataset.\n",
        "2. After splitting the data once, we recurse on each of the split groups from the previous step.\n",
        "3. We stop when there is only one class left or we hit a max depth.\n",
        "\n",
        "If you want more details about building a decision tree, please review notes and content from tutorial-2 on decision trees."
      ],
      "metadata": {
        "id": "Xo2gqGScJ62u"
      }
    },
    {
      "cell_type": "code",
      "source": [
        "import numpy as np"
      ],
      "metadata": {
        "id": "C1LBbjsALIS8"
      },
      "execution_count": 26,
      "outputs": []
    },
    {
      "cell_type": "markdown",
      "source": [
        "---\n",
        "\n",
        "## Question 4.1\n",
        "\n",
        "First, let's start by building some utitily functions that we will then use in our decision tree functions!\n",
        "\n",
        "- `entropy(y)` to calculate the entropy of the class values for a given set of data points $H(D)$.\n",
        "- `entropy_of_split(y, y_left, y_right)` to calculate the entropy of a dataset given a split $H(D | split)$, we do this by using the split classes left and right classes.\n",
        "- `information_gain(y, y_left, y_right)` to calcualte the information gain from a given split $IG(D | split)$.\n"
      ],
      "metadata": {
        "id": "H6LagXu0LMap"
      }
    },
    {
      "cell_type": "markdown",
      "source": [
        "### Answer 4.1"
      ],
      "metadata": {
        "id": "TZVp_03PZoQ4"
      }
    },
    {
      "cell_type": "code",
      "source": [
        "# GRADED FUNCTION\n",
        "def entropy(y):\n",
        "    '''\n",
        "    y: a numpy array of class values\n",
        "\n",
        "    return:\n",
        "        The entropy of the class values in y.\n",
        "    '''\n",
        "\n",
        "    # YOUR CODE HERE (~ 4-5 lines)\n",
        "    val_count=np.bincount(y)\n",
        "    prob = val_count/len(y)\n",
        "    non_zero = prob[prob>0]\n",
        "    entropy_value = -np.sum(non_zero * np.log2(non_zero))\n",
        "    return entropy_value\n",
        "\n",
        "# GRADED FUNCTION\n",
        "def entropy_of_split(y, y_left, y_right):\n",
        "    '''\n",
        "    y: a numpy array of class values\n",
        "    y_left: a numpy array of class values in the left half of the split\n",
        "    y_right: a numpy array of class values in the right half of the split\n",
        "\n",
        "    return:\n",
        "        The entropy of the class values in y given the split.\n",
        "    '''\n",
        "    if len(y_left) == 0 or len(y_right) == 0:\n",
        "        return 0\n",
        "\n",
        "    # YOUR CODE HERE (~ 4-5 lines)\n",
        "    entropy_value = entropy(y_left)*(len(y_left)/len(y)) + entropy(y_right)*(len(y_right)/len(y))\n",
        "    return entropy_value\n",
        "\n",
        "# GRADED FUNCTION\n",
        "def information_gain(y, y_left, y_right):\n",
        "    '''\n",
        "    y: a numpy array of class values\n",
        "    y_left: a numpy array of class values in the left half of the split\n",
        "    y_right: a numpy array of class values in the right half of the split\n",
        "\n",
        "    return:\n",
        "        The information gain provided by the split.\n",
        "    '''\n",
        "\n",
        "    # YOUR CODE HERE (~ 1 line)\n",
        "    info_gain=entropy(y)-entropy_of_split(y, y_left, y_right)\n",
        "    return info_gain"
      ],
      "metadata": {
        "id": "tffkP5K5MMER"
      },
      "execution_count": 28,
      "outputs": []
    },
    {
      "cell_type": "markdown",
      "source": [
        "\n",
        "### Question 4.1 Test Cases\n",
        "\n",
        "Do not edit this section, this is only here to help you verify that your answers are correct."
      ],
      "metadata": {
        "id": "jHqdMPeMS9XL"
      }
    },
    {
      "cell_type": "code",
      "source": [
        "# Test cases\n",
        "y1 = np.array([1, 1, 1, 0, 0, 0])\n",
        "y2 = np.array([1, 1, 1, 0, 0, 0])\n",
        "y4 = np.array([1, 1, 1, 1])\n",
        "y5 = np.array([1, 1, 0, 0])\n",
        "y6 = np.array([1, 1, 1, 0])\n",
        "y7 = np.array([0, 1, 2, 1, 2, 0, 2, 1])\n",
        "y8 = np.array([0, 1, 2])\n",
        "y9 = np.array([1, 2, 0, 2, 1])\n",
        "y10 = np.array([1, 1, 1, 1, 1])\n",
        "y11 = np.array([1, 1])\n",
        "y12 = np.array([1, 1, 1])\n",
        "\n",
        "# Simple tests\n",
        "assert round(entropy(y1), 3) == 1.0, f\"Expected entropy: 1.0, got {round(entropy(y1), 3)}\"\n",
        "assert round(entropy_of_split(y2, np.array([1, 1, 1]), np.array([0, 0, 0])), 3) == 0.0, f\"Expected entropy split: 0.0, got {round(entropy_of_split(y2, np.array([1, 1, 1]), np.array([0, 0, 0])), 3)}\"\n",
        "assert round(information_gain(y2, np.array([1, 1, 1]), np.array([0, 0, 0])), 3) == 1.0, f\"Expected information gain: 1.0, got {round(information_gain(y2, np.array([1, 1, 1]), np.array([0, 0, 0])), 3)}\"\n",
        "assert round(entropy(y4), 3) == 0.0, f\"Expected entropy: 0.0, got {round(entropy(y4), 3)}\"\n",
        "assert round(information_gain(y5, np.array([1, 1]), np.array([0, 0])), 3) == 1.0, f\"Expected information gain: 1.0, got {round(information_gain(y5, np.array([1, 1]), np.array([0, 0])), 3)}\"\n",
        "assert round(information_gain(y6, np.array([1, 1]), np.array([1, 0])), 3) == 0.311, f\"Expected information gain: 0.311, got {round(information_gain(y6, np.array([1, 1]), np.array([1, 0])), 3)}\"\n",
        "\n",
        "# Additional tests\n",
        "assert round(entropy(y7), 3) == 1.561, f\"Expected entropy: 1.561, got {round(entropy(y7), 3)}\"\n",
        "assert round(entropy_of_split(y7, y8, y9), 3) == 1.546, f\"Expected entropy split: 1.546, got {round(entropy_of_split(y7, y8, y9), 3)}\"\n",
        "assert round(information_gain(y7, y8, y9), 3) == 0.016, f\"Expected information gain: 0.016, got {round(information_gain(y7, y8, y9), 3)}\"\n",
        "assert round(entropy(y10), 3) == 0.0, f\"Expected entropy: 0.0, got {round(entropy(y10), 3)}\"\n",
        "assert round(information_gain(y10, y11, y12), 3) == 0.0, f\"Expected information gain: 0.0, got {round(information_gain(y10, y11, y12), 3)}\"\n",
        "\n",
        "print(\"All tests passed!\")"
      ],
      "metadata": {
        "id": "of7uSvDbTJAO",
        "colab": {
          "base_uri": "https://localhost:8080/"
        },
        "outputId": "893d1b1d-fda7-4132-bada-849e8906bbcd"
      },
      "execution_count": 29,
      "outputs": [
        {
          "output_type": "stream",
          "name": "stdout",
          "text": [
            "All tests passed!\n"
          ]
        }
      ]
    },
    {
      "cell_type": "markdown",
      "source": [
        "---\n",
        "\n",
        "## Question 4.2\n",
        "\n",
        "Alright, we now have the core functions we need to build a DT. Let's start by building a function that picks the best split at a given instance.\n",
        "\n",
        "We select the best split by just iterating over all features and using all unique values for a given feature as options for a threshold."
      ],
      "metadata": {
        "id": "qJpqxihjVsME"
      }
    },
    {
      "cell_type": "code",
      "source": [
        "class Split_Option:\n",
        "    def __init__(self, feature_index, threshold, info_gain):\n",
        "        self.feature = feature_index\n",
        "        self.threshold = threshold\n",
        "        self.info_gain = info_gain\n",
        "\n",
        "    def load_split(self, X, y):\n",
        "        self.x_left = X[X[:, self.feature] <= self.threshold]\n",
        "        self.x_right = X[X[:, self.feature] > self.threshold]\n",
        "\n",
        "        feature_values = X[:, self.feature]\n",
        "        self.y_left = y[feature_values <= self.threshold]\n",
        "        self.y_right = y[feature_values > self.threshold]"
      ],
      "metadata": {
        "id": "rF2keQ58WBFZ"
      },
      "execution_count": 30,
      "outputs": []
    },
    {
      "cell_type": "markdown",
      "source": [
        "### Answer 4.2\n",
        "\n",
        "**NOTE**: To make the tests pass, stick to the convention that \"left\" split contains `<=` and \"right\" split contains `>`."
      ],
      "metadata": {
        "id": "uuiSy__cZxzp"
      }
    },
    {
      "cell_type": "code",
      "source": [
        "# GRADED FUNCTION\n",
        "def pick_best_split(X, y):\n",
        "    '''\n",
        "    X: a numpy array (dataset) of shape (n, m)\n",
        "    y: an array containing the class for each row of X, of shape (n, 1)\n",
        "\n",
        "    return:\n",
        "        A Best_Split() object that contains information about the best split\n",
        "        given the data. This is a greedy selection based on information gain.\n",
        "    '''\n",
        "\n",
        "    best_split = Split_Option(feature_index=-1, threshold=-1, info_gain=-1)\n",
        "\n",
        "    # YOUR CODE HERE (~ 10-15 lines)\n",
        "    for feature_index in range(len(X[1])):\n",
        "        feature_values = feature_values = X[:, feature_index]\n",
        "        possible_thresholds = np.unique(feature_values)\n",
        "\n",
        "        for threshold in possible_thresholds:\n",
        "            y_left = y[feature_values<=threshold]\n",
        "            y_right = y[feature_values>threshold]\n",
        "            info_gain = information_gain(y,y_left,y_right)\n",
        "\n",
        "            # Skip invalid splits where one side is empty\n",
        "            if len(y_left) == 0 or len(y_right) == 0:\n",
        "                continue\n",
        "\n",
        "            if info_gain>best_split.info_gain:\n",
        "                best_split = Split_Option(feature_index=feature_index, threshold=threshold, info_gain=info_gain)\n",
        "    # END OF YOUR CODE\n",
        "\n",
        "    best_split.load_split(X, y)\n",
        "\n",
        "    return best_split"
      ],
      "metadata": {
        "id": "e7lGoghQWHOR"
      },
      "execution_count": 31,
      "outputs": []
    },
    {
      "cell_type": "markdown",
      "source": [
        "### Question 4.2 Test Cases\n",
        "\n",
        "Do not edit this section, this is only here to help you verify that your answers are correct."
      ],
      "metadata": {
        "id": "nEyezno5caO8"
      }
    },
    {
      "cell_type": "code",
      "source": [
        "import numpy as np\n",
        "\n",
        "# Test 1\n",
        "X = np.array([\n",
        "    [2.5, 3.1, 0.7],\n",
        "    [1.3, 3.3, 0.4],\n",
        "    [2.7, 3.9, 0.2],\n",
        "    [2.9, 4.0, 1.1],\n",
        "    [3.5, 2.5, 0.8],\n",
        "    [3.8, 3.0, 0.9],\n",
        "    [1.8, 3.2, 0.5]\n",
        "])\n",
        "\n",
        "y = np.array([0, 1, 0, 1, 0, 1, 0])\n",
        "\n",
        "bs = pick_best_split(X, y)\n",
        "assert bs.feature == 2, f\"Expected feature=2, got {bs.feature}\"\n",
        "assert round(bs.threshold, 3) == 0.8, f\"Expected threshold=0.8, got {bs.threshold}\"\n",
        "assert round(bs.info_gain, 3) == 0.47, f\"Expected information gain=0.47, got {round(bs.info_gain, 3)}\"\n",
        "\n",
        "# Test 2\n",
        "X = np.array([\n",
        "    [1.0, 2.1],\n",
        "    [1.5, 2.4],\n",
        "    [1.1, 2.2],\n",
        "    [4.1, 3.8],\n",
        "    [4.2, 3.9],\n",
        "    [4.3, 4.0]\n",
        "])\n",
        "\n",
        "y = np.array([0, 0, 0, 1, 1, 1])\n",
        "\n",
        "bs = pick_best_split(X, y)\n",
        "assert bs.feature == 0, f\"Expected feature=0, got {bs.feature}\"\n",
        "assert round(bs.threshold, 3) == 1.5, f\"Expected threshold=1.5, got {bs.threshold}\"\n",
        "assert round(bs.info_gain, 3) == 1.0, f\"Expected information gain=1.0, got {round(bs.info_gain, 3)}\"\n",
        "\n",
        "# Test 3\n",
        "X = np.array([\n",
        "    [1.0, 1.0],\n",
        "    [1.0, 1.0],\n",
        "    [1.0, 1.0],\n",
        "    [1.0, 1.0]\n",
        "])\n",
        "\n",
        "y = np.array([1, 1, 1, 1])\n",
        "\n",
        "bs = pick_best_split(X, y)\n",
        "assert bs.info_gain == -1, f\"Expected no info gain (-1), got {bs.info_gain}\"\n",
        "assert bs.feature == -1, f\"Expected feature -1 (no split), got {bs.feature}\"\n",
        "assert bs.threshold == -1, f\"Expected threshold -1 (no split), got {bs.threshold}\"\n",
        "\n",
        "# Test 4\n",
        "np.random.seed(3151)\n",
        "X = np.random.rand(100, 5)\n",
        "y = np.random.randint(0, 2, 100)\n",
        "\n",
        "bs = pick_best_split(X, y)\n",
        "assert bs.feature == 4, f\"Expected feature=4, got {bs.feature}\"\n",
        "assert round(bs.threshold, 3) == 0.800, f\"Expected threshold=0.800, got {bs.threshold}\"\n",
        "assert round(bs.info_gain, 3) == 0.049, f\"Expected information gain=0.049, got {round(bs.info_gain, 3)}\"\n",
        "\n",
        "# Test 5\n",
        "X = np.random.rand(10, 50)\n",
        "y = np.random.randint(0, 2, 10)\n",
        "\n",
        "bs = pick_best_split(X, y)\n",
        "assert bs.feature == 0, f\"Expected feature=0, got {bs.feature}\"\n",
        "assert round(bs.threshold, 3) == 0.363, f\"Expected threshold=0.363, got {bs.threshold}\"\n",
        "assert round(bs.info_gain, 3) == 0.61, f\"Expected information gain=0.61, got {round(bs.info_gain, 3)}\"\n",
        "\n",
        "print(\"All tests passed!\")"
      ],
      "metadata": {
        "id": "YZlo8cZ-cmWI",
        "colab": {
          "base_uri": "https://localhost:8080/"
        },
        "outputId": "5b5765c7-4733-40c1-b64e-9097efc06be4"
      },
      "execution_count": 32,
      "outputs": [
        {
          "output_type": "stream",
          "name": "stdout",
          "text": [
            "All tests passed!\n"
          ]
        }
      ]
    },
    {
      "cell_type": "markdown",
      "source": [
        "---\n",
        "\n",
        "## Question 4.3\n",
        "\n",
        "You're almost done! You now have a way to pick the perfect split and all that's left is to tie everything together.\n",
        "\n",
        "I've provided some starter code to help you get started but I'll let you figure out how you can use everything here to finish the code."
      ],
      "metadata": {
        "id": "bpHQrpfEfmHl"
      }
    },
    {
      "cell_type": "code",
      "source": [
        "class DT_Node:\n",
        "    def __init__(self, feature: int, threshold: float, info_gain: float,\n",
        "                 node_class: int, left, right):\n",
        "        # if feature is -1 then it's leaf node\n",
        "        self.feature = feature\n",
        "        self.threshold = threshold\n",
        "        self.info_gain = info_gain\n",
        "        self.node_class = node_class\n",
        "        self.left = left\n",
        "        self.right = right\n",
        "\n",
        "    def is_leaf(self):\n",
        "        return self.feature == -1\n",
        "\n",
        "    def get_class(self):\n",
        "        return self.node_class"
      ],
      "metadata": {
        "id": "IvSAaUxigAP1"
      },
      "execution_count": 34,
      "outputs": []
    },
    {
      "cell_type": "markdown",
      "source": [
        "### Answer 4.3"
      ],
      "metadata": {
        "id": "NcBBwP_xZ6a1"
      }
    },
    {
      "cell_type": "code",
      "source": [
        "# GRADED CLASS\n",
        "class DecisionTree:\n",
        "    def __init__(self, max_depth: int = 1000, min_samples_split: int = 3):\n",
        "        # min_samples_split is the number of data points that need to be on a\n",
        "        # node to warrent a split. If count of data points < min_samples_split\n",
        "        # then the node is not split any further.\n",
        "        self.max_depth = max_depth\n",
        "        self.min_samples_split = min_samples_split\n",
        "        self.root = None\n",
        "\n",
        "    # GRADED FUNCTION\n",
        "    def _build(self, X, y, depth=0):\n",
        "\n",
        "        # If there are fewer samples than min_samples_split\n",
        "        # or depth limit reached, stop splitting and return a leaf node.\n",
        "        if X.shape[0] < self.min_samples_split or depth >= self.max_depth:\n",
        "            return DT_Node(\n",
        "                feature=-1,\n",
        "                threshold=-1,\n",
        "                info_gain=-1,\n",
        "                node_class=np.argmax(np.bincount(y)),\n",
        "                left=None,\n",
        "                right=None\n",
        "            )\n",
        "\n",
        "        # Find the best split\n",
        "        bs = pick_best_split(X,y)\n",
        "\n",
        "        # If no information gain, return a leaf node\n",
        "        if bs.info_gain == -1 or len(bs.y_left) == 0 or len(bs.y_right) == 0:\n",
        "            return DT_Node(\n",
        "                feature=-1,\n",
        "                threshold=-1,\n",
        "                info_gain=-1,\n",
        "                left=None,\n",
        "                right=None,\n",
        "                node_class=np.argmax(np.bincount(y)))\n",
        "\n",
        "        # Recursively build the tree\n",
        "        left = self._build(bs.x_left, bs.y_left, depth + 1)\n",
        "        right = self._build(bs.x_right, bs.y_right, depth + 1)\n",
        "\n",
        "        return DT_Node (\n",
        "            feature=bs.feature,\n",
        "            threshold=bs.threshold,\n",
        "            info_gain=bs.info_gain,\n",
        "            left=left,\n",
        "            right=right,\n",
        "            node_class=-1\n",
        "        )\n",
        "\n",
        "    def fit(self, X, y):\n",
        "        self.root = self._build(X, y)\n",
        "\n",
        "    # GRADED FUNCTION\n",
        "    def _predict(self, x, node):\n",
        "\n",
        "        if node.is_leaf():\n",
        "            return node.node_class\n",
        "\n",
        "        if x[node.feature] <= node.threshold:\n",
        "            return self._predict(x,node.left)\n",
        "        else:\n",
        "            return self._predict(x,node.right)\n",
        "\n",
        "    def predict(self, X):\n",
        "        return np.array([self._predict(x, self.root) for x in X])\n"
      ],
      "metadata": {
        "id": "E4z88S14gDa5"
      },
      "execution_count": 41,
      "outputs": []
    },
    {
      "cell_type": "markdown",
      "source": [
        "---\n",
        "\n",
        "## Question 4.4\n",
        "\n",
        "You have successfully built a Decision Tree from scratch! In this section we're just going to test the decision tree you built and compare it to KNN for two different problems!\n",
        "\n",
        "The first problem we'll look at is called `make_moons` which is just a 2D plot that look like two moon. The classification algorithms are tasked with trying to classify points in this dataset.\n",
        "\n",
        "The second is a REAL world dataset of different wines (`wine`)!\n",
        "\n",
        "The actual question you are required to answer is at the bottom. First we see how well our model does on the datasets!"
      ],
      "metadata": {
        "id": "ZQY7NfiYh9pw"
      }
    },
    {
      "cell_type": "code",
      "source": [
        "from sklearn.datasets import make_moons\n",
        "from sklearn.model_selection import train_test_split\n",
        "from sklearn.neighbors import KNeighborsClassifier\n",
        "from sklearn.tree import DecisionTreeClassifier\n",
        "from sklearn.metrics import accuracy_score\n",
        "from sklearn.datasets import load_wine\n",
        "from sklearn.preprocessing import StandardScaler\n",
        "import matplotlib.pyplot as plt\n",
        "import pandas as pd"
      ],
      "metadata": {
        "id": "7L_slosOiXBp"
      },
      "execution_count": 36,
      "outputs": []
    },
    {
      "cell_type": "code",
      "source": [
        "# Generate the make_moons dataset\n",
        "X, y = make_moons(n_samples=500, noise=0.2, random_state=3151)\n",
        "\n",
        "# Split into training and test sets\n",
        "X_train, X_test, y_train, y_test = train_test_split(X, y, test_size=0.2, random_state=42)\n",
        "\n",
        "# Train the Decision Tree model you built\n",
        "dt = DecisionTree()\n",
        "dt.fit(X_train, y_train)\n",
        "dt_preds = dt.predict(X_test)\n",
        "\n",
        "# Train the KNN model from sklearn\n",
        "knn = KNeighborsClassifier(n_neighbors=3)\n",
        "knn.fit(X_train, y_train)\n",
        "knn_preds = knn.predict(X_test)\n",
        "\n",
        "# Calculate accuracy for the models\n",
        "dt_accuracy = accuracy_score(y_test, dt_preds)\n",
        "knn_accuracy = accuracy_score(y_test, knn_preds)\n",
        "\n",
        "# Print the results\n",
        "print(\"For the make_moons dataset, here are the results:\\n\")\n",
        "print(f\"Decision Tree Accuracy: {dt_accuracy}\")\n",
        "print(f\"KNN Accuracy: {knn_accuracy}\")\n",
        "\n",
        "# Visualize the dataset\n",
        "plt.scatter(X[:, 0], X[:, 1], c=y, cmap=plt.cm.coolwarm)\n",
        "plt.title('make_moons dataset')\n",
        "plt.show()"
      ],
      "metadata": {
        "id": "qCdY9w3CixR8",
        "colab": {
          "base_uri": "https://localhost:8080/",
          "height": 521
        },
        "outputId": "7a416a94-bc16-46bd-c402-ada0ed49f3d0"
      },
      "execution_count": 42,
      "outputs": [
        {
          "output_type": "stream",
          "name": "stdout",
          "text": [
            "For the make_moons dataset, here are the results:\n",
            "\n",
            "Decision Tree Accuracy: 0.96\n",
            "KNN Accuracy: 0.96\n"
          ]
        },
        {
          "output_type": "display_data",
          "data": {
            "text/plain": [
              "<Figure size 640x480 with 1 Axes>"
            ],
            "image/png": "[encoded data removed]"
          },
          "metadata": {}
        }
      ]
    },
    {
      "cell_type": "code",
      "source": [
        "print(\"This section is just to show you what the dataset looks like.\")\n",
        "\n",
        "wine = load_wine()\n",
        "X = wine.data\n",
        "y = wine.target\n",
        "\n",
        "# Convert the dataset into a pandas DataFrame for easy viewing\n",
        "wine_df = pd.DataFrame(X, columns=wine.feature_names)\n",
        "wine_df['target'] = y\n",
        "\n",
        "# Display the column names and first 5 rows of the dataset\n",
        "print(\"Column Names:\\n\", wine_df.columns.tolist())\n",
        "print(\"\\nSample Data (First 5 Rows):\")\n",
        "display(wine_df.head())\n",
        "\n",
        "# Pairwise plot between two features (Alcohol vs Flavanoids)\n",
        "plt.figure(figsize=(8,6))\n",
        "\n",
        "# Plot for each class in the dataset\n",
        "for class_value in wine_df['target'].unique():\n",
        "    subset = wine_df[wine_df['target'] == class_value]\n",
        "    plt.scatter(subset['alcohol'], subset['flavanoids'], s=100, label=f\"Class {class_value}\")\n",
        "\n",
        "plt.title(\"Wine Dataset: Alcohol vs Flavanoids\")\n",
        "plt.xlabel(\"Alcohol\")\n",
        "plt.ylabel(\"Flavanoids\")\n",
        "plt.legend(title=\"Class\")\n",
        "plt.show()"
      ],
      "metadata": {
        "id": "ORFqNVtnkBBy",
        "colab": {
          "base_uri": "https://localhost:8080/",
          "height": 860
        },
        "outputId": "a71560f1-5544-41be-9a40-4d8fdf97555b"
      },
      "execution_count": 43,
      "outputs": [
        {
          "output_type": "stream",
          "name": "stdout",
          "text": [
            "This section is just to show you what the dataset looks like.\n",
            "Column Names:\n",
            " ['alcohol', 'malic_acid', 'ash', 'alcalinity_of_ash', 'magnesium', 'total_phenols', 'flavanoids', 'nonflavanoid_phenols', 'proanthocyanins', 'color_intensity', 'hue', 'od280/od315_of_diluted_wines', 'proline', 'target']\n",
            "\n",
            "Sample Data (First 5 Rows):\n"
          ]
        },
        {
          "output_type": "display_data",
          "data": {
            "text/plain": [
              "   alcohol  malic_acid   ash  alcalinity_of_ash  magnesium  total_phenols  \\\n",
              "0    14.23        1.71  2.43               15.6      127.0           2.80   \n",
              "1    13.20        1.78  2.14               11.2      100.0           2.65   \n",
              "2    13.16        2.36  2.67               18.6      101.0           2.80   \n",
              "3    14.37        1.95  2.50               16.8      113.0           3.85   \n",
              "4    13.24        2.59  2.87               21.0      118.0           2.80   \n",
              "\n",
              "   flavanoids  nonflavanoid_phenols  proanthocyanins  color_intensity   hue  \\\n",
              "0        3.06                  0.28             2.29             5.64  1.04   \n",
              "1        2.76                  0.26             1.28             4.38  1.05   \n",
              "2        3.24                  0.30             2.81             5.68  1.03   \n",
              "3        3.49                  0.24             2.18             7.80  0.86   \n",
              "4        2.69                  0.39             1.82             4.32  1.04   \n",
              "\n",
              "   od280/od315_of_diluted_wines  proline  target  \n",
              "0                          3.92   1065.0       0  \n",
              "1                          3.40   1050.0       0  \n",
              "2                          3.17   1185.0       0  \n",
              "3                          3.45   1480.0       0  \n",
              "4                          2.93    735.0       0  "
            ],
            "text/html": [
              "\n",
              "  <div id=\"df-b7274bf9-8ba3-4faa-8e62-e3143c418eac\" class=\"colab-df-container\">\n",
              "    <div>\n",
              "<style scoped>\n",
              "    .dataframe tbody tr th:only-of-type {\n",
              "        vertical-align: middle;\n",
              "    }\n",
              "\n",
              "    .dataframe tbody tr th {\n",
              "        vertical-align: top;\n",
              "    }\n",
              "\n",
              "    .dataframe thead th {\n",
              "        text-align: right;\n",
              "    }\n",
              "</style>\n",
              "<table border=\"1\" class=\"dataframe\">\n",
              "  <thead>\n",
              "    <tr style=\"text-align: right;\">\n",
              "      <th></th>\n",
              "      <th>alcohol</th>\n",
              "      <th>malic_acid</th>\n",
              "      <th>ash</th>\n",
              "      <th>alcalinity_of_ash</th>\n",
              "      <th>magnesium</th>\n",
              "      <th>total_phenols</th>\n",
              "      <th>flavanoids</th>\n",
              "      <th>nonflavanoid_phenols</th>\n",
              "      <th>proanthocyanins</th>\n",
              "      <th>color_intensity</th>\n",
              "      <th>hue</th>\n",
              "      <th>od280/od315_of_diluted_wines</th>\n",
              "      <th>proline</th>\n",
              "      <th>target</th>\n",
              "    </tr>\n",
              "  </thead>\n",
              "  <tbody>\n",
              "    <tr>\n",
              "      <th>0</th>\n",
              "      <td>14.23</td>\n",
              "      <td>1.71</td>\n",
              "      <td>2.43</td>\n",
              "      <td>15.6</td>\n",
              "      <td>127.0</td>\n",
              "      <td>2.80</td>\n",
              "      <td>3.06</td>\n",
              "      <td>0.28</td>\n",
              "      <td>2.29</td>\n",
              "      <td>5.64</td>\n",
              "      <td>1.04</td>\n",
              "      <td>3.92</td>\n",
              "      <td>1065.0</td>\n",
              "      <td>0</td>\n",
              "    </tr>\n",
              "    <tr>\n",
              "      <th>1</th>\n",
              "      <td>13.20</td>\n",
              "      <td>1.78</td>\n",
              "      <td>2.14</td>\n",
              "      <td>11.2</td>\n",
              "      <td>100.0</td>\n",
              "      <td>2.65</td>\n",
              "      <td>2.76</td>\n",
              "      <td>0.26</td>\n",
              "      <td>1.28</td>\n",
              "      <td>4.38</td>\n",
              "      <td>1.05</td>\n",
              "      <td>3.40</td>\n",
              "      <td>1050.0</td>\n",
              "      <td>0</td>\n",
              "    </tr>\n",
              "    <tr>\n",
              "      <th>2</th>\n",
              "      <td>13.16</td>\n",
              "      <td>2.36</td>\n",
              "      <td>2.67</td>\n",
              "      <td>18.6</td>\n",
              "      <td>101.0</td>\n",
              "      <td>2.80</td>\n",
              "      <td>3.24</td>\n",
              "      <td>0.30</td>\n",
              "      <td>2.81</td>\n",
              "      <td>5.68</td>\n",
              "      <td>1.03</td>\n",
              "      <td>3.17</td>\n",
              "      <td>1185.0</td>\n",
              "      <td>0</td>\n",
              "    </tr>\n",
              "    <tr>\n",
              "      <th>3</th>\n",
              "      <td>14.37</td>\n",
              "      <td>1.95</td>\n",
              "      <td>2.50</td>\n",
              "      <td>16.8</td>\n",
              "      <td>113.0</td>\n",
              "      <td>3.85</td>\n",
              "      <td>3.49</td>\n",
              "      <td>0.24</td>\n",
              "      <td>2.18</td>\n",
              "      <td>7.80</td>\n",
              "      <td>0.86</td>\n",
              "      <td>3.45</td>\n",
              "      <td>1480.0</td>\n",
              "      <td>0</td>\n",
              "    </tr>\n",
              "    <tr>\n",
              "      <th>4</th>\n",
              "      <td>13.24</td>\n",
              "      <td>2.59</td>\n",
              "      <td>2.87</td>\n",
              "      <td>21.0</td>\n",
              "      <td>118.0</td>\n",
              "      <td>2.80</td>\n",
              "      <td>2.69</td>\n",
              "      <td>0.39</td>\n",
              "      <td>1.82</td>\n",
              "      <td>4.32</td>\n",
              "      <td>1.04</td>\n",
              "      <td>2.93</td>\n",
              "      <td>735.0</td>\n",
              "      <td>0</td>\n",
              "    </tr>\n",
              "  </tbody>\n",
              "</table>\n",
              "</div>\n",
              "    <div class=\"colab-df-buttons\">\n",
              "\n",
              "  <div class=\"colab-df-container\">\n",
              "    <button class=\"colab-df-convert\" onclick=\"convertToInteractive('df-b7274bf9-8ba3-4faa-8e62-e3143c418eac')\"\n",
              "            title=\"Convert this dataframe to an interactive table.\"\n",
              "            style=\"display:none;\">\n",
              "\n",
              "  <svg xmlns=\"http://www.w3.org/2000/svg\" height=\"24px\" viewBox=\"0 -960 960 960\">\n",
              "    <path d=\"M120-120v-720h720v720H120Zm60-500h600v-160H180v160Zm220 220h160v-160H400v160Zm0 220h160v-160H400v160ZM180-400h160v-160H180v160Zm440 0h160v-160H620v160ZM180-180h160v-160H180v160Zm440 0h160v-160H620v160Z\"/>\n",
              "  </svg>\n",
              "    </button>\n",
              "\n",
              "  <style>\n",
              "    .colab-df-container {\n",
              "      display:flex;\n",
              "      gap: 12px;\n",
              "    }\n",
              "\n",
              "    .colab-df-convert {\n",
              "      background-color: #E8F0FE;\n",
              "      border: none;\n",
              "      border-radius: 50%;\n",
              "      cursor: pointer;\n",
              "      display: none;\n",
              "      fill: #1967D2;\n",
              "      height: 32px;\n",
              "      padding: 0 0 0 0;\n",
              "      width: 32px;\n",
              "    }\n",
              "\n",
              "    .colab-df-convert:hover {\n",
              "      background-color: #E2EBFA;\n",
              "      box-shadow: 0px 1px 2px rgba(60, 64, 67, 0.3), 0px 1px 3px 1px rgba(60, 64, 67, 0.15);\n",
              "      fill: #174EA6;\n",
              "    }\n",
              "\n",
              "    .colab-df-buttons div {\n",
              "      margin-bottom: 4px;\n",
              "    }\n",
              "\n",
              "    [theme=dark] .colab-df-convert {\n",
              "      background-color: #3B4455;\n",
              "      fill: #D2E3FC;\n",
              "    }\n",
              "\n",
              "    [theme=dark] .colab-df-convert:hover {\n",
              "      background-color: #434B5C;\n",
              "      box-shadow: 0px 1px 3px 1px rgba(0, 0, 0, 0.15);\n",
              "      filter: drop-shadow(0px 1px 2px rgba(0, 0, 0, 0.3));\n",
              "      fill: #FFFFFF;\n",
              "    }\n",
              "  </style>\n",
              "\n",
              "    <script>\n",
              "      const buttonEl =\n",
              "        document.querySelector('#df-b7274bf9-8ba3-4faa-8e62-e3143c418eac button.colab-df-convert');\n",
              "      buttonEl.style.display =\n",
              "        google.colab.kernel.accessAllowed ? 'block' : 'none';\n",
              "\n",
              "      async function convertToInteractive(key) {\n",
              "        const element = document.querySelector('#df-b7274bf9-8ba3-4faa-8e62-e3143c418eac');\n",
              "        const dataTable =\n",
              "          await google.colab.kernel.invokeFunction('convertToInteractive',\n",
              "                                                    [key], {});\n",
              "        if (!dataTable) return;\n",
              "\n",
              "        const docLinkHtml = 'Like what you see? Visit the ' +\n",
              "          '<a target=\"_blank\" href=https://colab.research.google.com/notebooks/data_table.ipynb>data table notebook</a>'\n",
              "          + ' to learn more about interactive tables.';\n",
              "        element.innerHTML = '';\n",
              "        dataTable['output_type'] = 'display_data';\n",
              "        await google.colab.output.renderOutput(dataTable, element);\n",
              "        const docLink = document.createElement('div');\n",
              "        docLink.innerHTML = docLinkHtml;\n",
              "        element.appendChild(docLink);\n",
              "      }\n",
              "    </script>\n",
              "  </div>\n",
              "\n",
              "\n",
              "<div id=\"df-aff77356-0ce7-4291-9291-5e9957d931c8\">\n",
              "  <button class=\"colab-df-quickchart\" onclick=\"quickchart('df-aff77356-0ce7-4291-9291-5e9957d931c8')\"\n",
              "            title=\"Suggest charts\"\n",
              "            style=\"display:none;\">\n",
              "\n",
              "<svg xmlns=\"http://www.w3.org/2000/svg\" height=\"24px\"viewBox=\"0 0 24 24\"\n",
              "     width=\"24px\">\n",
              "    <g>\n",
              "        <path d=\"M19 3H5c-1.1 0-2 .9-2 2v14c0 1.1.9 2 2 2h14c1.1 0 2-.9 2-2V5c0-1.1-.9-2-2-2zM9 17H7v-7h2v7zm4 0h-2V7h2v10zm4 0h-2v-4h2v4z\"/>\n",
              "    </g>\n",
              "</svg>\n",
              "  </button>\n",
              "\n",
              "<style>\n",
              "  .colab-df-quickchart {\n",
              "      --bg-color: #E8F0FE;\n",
              "      --fill-color: #1967D2;\n",
              "      --hover-bg-color: #E2EBFA;\n",
              "      --hover-fill-color: #174EA6;\n",
              "      --disabled-fill-color: #AAA;\n",
              "      --disabled-bg-color: #DDD;\n",
              "  }\n",
              "\n",
              "  [theme=dark] .colab-df-quickchart {\n",
              "      --bg-color: #3B4455;\n",
              "      --fill-color: #D2E3FC;\n",
              "      --hover-bg-color: #434B5C;\n",
              "      --hover-fill-color: #FFFFFF;\n",
              "      --disabled-bg-color: #3B4455;\n",
              "      --disabled-fill-color: #666;\n",
              "  }\n",
              "\n",
              "  .colab-df-quickchart {\n",
              "    background-color: var(--bg-color);\n",
              "    border: none;\n",
              "    border-radius: 50%;\n",
              "    cursor: pointer;\n",
              "    display: none;\n",
              "    fill: var(--fill-color);\n",
              "    height: 32px;\n",
              "    padding: 0;\n",
              "    width: 32px;\n",
              "  }\n",
              "\n",
              "  .colab-df-quickchart:hover {\n",
              "    background-color: var(--hover-bg-color);\n",
              "    box-shadow: 0 1px 2px rgba(60, 64, 67, 0.3), 0 1px 3px 1px rgba(60, 64, 67, 0.15);\n",
              "    fill: var(--button-hover-fill-color);\n",
              "  }\n",
              "\n",
              "  .colab-df-quickchart-complete:disabled,\n",
              "  .colab-df-quickchart-complete:disabled:hover {\n",
              "    background-color: var(--disabled-bg-color);\n",
              "    fill: var(--disabled-fill-color);\n",
              "    box-shadow: none;\n",
              "  }\n",
              "\n",
              "  .colab-df-spinner {\n",
              "    border: 2px solid var(--fill-color);\n",
              "    border-color: transparent;\n",
              "    border-bottom-color: var(--fill-color);\n",
              "    animation:\n",
              "      spin 1s steps(1) infinite;\n",
              "  }\n",
              "\n",
              "  @keyframes spin {\n",
              "    0% {\n",
              "      border-color: transparent;\n",
              "      border-bottom-color: var(--fill-color);\n",
              "      border-left-color: var(--fill-color);\n",
              "    }\n",
              "    20% {\n",
              "      border-color: transparent;\n",
              "      border-left-color: var(--fill-color);\n",
              "      border-top-color: var(--fill-color);\n",
              "    }\n",
              "    30% {\n",
              "      border-color: transparent;\n",
              "      border-left-color: var(--fill-color);\n",
              "      border-top-color: var(--fill-color);\n",
              "      border-right-color: var(--fill-color);\n",
              "    }\n",
              "    40% {\n",
              "      border-color: transparent;\n",
              "      border-right-color: var(--fill-color);\n",
              "      border-top-color: var(--fill-color);\n",
              "    }\n",
              "    60% {\n",
              "      border-color: transparent;\n",
              "      border-right-color: var(--fill-color);\n",
              "    }\n",
              "    80% {\n",
              "      border-color: transparent;\n",
              "      border-right-color: var(--fill-color);\n",
              "      border-bottom-color: var(--fill-color);\n",
              "    }\n",
              "    90% {\n",
              "      border-color: transparent;\n",
              "      border-bottom-color: var(--fill-color);\n",
              "    }\n",
              "  }\n",
              "</style>\n",
              "\n",
              "  <script>\n",
              "    async function quickchart(key) {\n",
              "      const quickchartButtonEl =\n",
              "        document.querySelector('#' + key + ' button');\n",
              "      quickchartButtonEl.disabled = true;  // To prevent multiple clicks.\n",
              "      quickchartButtonEl.classList.add('colab-df-spinner');\n",
              "      try {\n",
              "        const charts = await google.colab.kernel.invokeFunction(\n",
              "            'suggestCharts', [key], {});\n",
              "      } catch (error) {\n",
              "        console.error('Error during call to suggestCharts:', error);\n",
              "      }\n",
              "      quickchartButtonEl.classList.remove('colab-df-spinner');\n",
              "      quickchartButtonEl.classList.add('colab-df-quickchart-complete');\n",
              "    }\n",
              "    (() => {\n",
              "      let quickchartButtonEl =\n",
              "        document.querySelector('#df-aff77356-0ce7-4291-9291-5e9957d931c8 button');\n",
              "      quickchartButtonEl.style.display =\n",
              "        google.colab.kernel.accessAllowed ? 'block' : 'none';\n",
              "    })();\n",
              "  </script>\n",
              "</div>\n",
              "\n",
              "    </div>\n",
              "  </div>\n"
            ],
            "application/vnd.google.colaboratory.intrinsic+json": {
              "type": "dataframe",
              "summary": "{\n  \"name\": \"plt\",\n  \"rows\": 5,\n  \"fields\": [\n    {\n      \"column\": \"alcohol\",\n      \"properties\": {\n        \"dtype\": \"number\",\n        \"std\": 0.6051859218455101,\n        \"min\": 13.16,\n        \"max\": 14.37,\n        \"num_unique_values\": 5,\n        \"samples\": [\n          13.2,\n          13.24,\n          13.16\n        ],\n        \"semantic_type\": \"\",\n        \"description\": \"\"\n      }\n    },\n    {\n      \"column\": \"malic_acid\",\n      \"properties\": {\n        \"dtype\": \"number\",\n        \"std\": 0.38153636786026035,\n        \"min\": 1.71,\n        \"max\": 2.59,\n        \"num_unique_values\": 5,\n        \"samples\": [\n          1.78,\n          2.59,\n          2.36\n        ],\n        \"semantic_type\": \"\",\n        \"description\": \"\"\n      }\n    },\n    {\n      \"column\": \"ash\",\n      \"properties\": {\n        \"dtype\": \"number\",\n        \"std\": 0.272891919997643,\n        \"min\": 2.14,\n        \"max\": 2.87,\n        \"num_unique_values\": 5,\n        \"samples\": [\n          2.14,\n          2.87,\n          2.67\n        ],\n        \"semantic_type\": \"\",\n        \"description\": \"\"\n      }\n    },\n    {\n      \"column\": \"alcalinity_of_ash\",\n      \"properties\": {\n        \"dtype\": \"number\",\n        \"std\": 3.6589616013289894,\n        \"min\": 11.2,\n        \"max\": 21.0,\n        \"num_unique_values\": 5,\n        \"samples\": [\n          11.2,\n          21.0,\n          18.6\n        ],\n        \"semantic_type\": \"\",\n        \"description\": \"\"\n      }\n    },\n    {\n      \"column\": \"magnesium\",\n      \"properties\": {\n        \"dtype\": \"number\",\n        \"std\": 11.476062042355817,\n        \"min\": 100.0,\n        \"max\": 127.0,\n        \"num_unique_values\": 5,\n        \"samples\": [\n          100.0,\n          118.0,\n          101.0\n        ],\n        \"semantic_type\": \"\",\n        \"description\": \"\"\n      }\n    },\n    {\n      \"column\": \"total_phenols\",\n      \"properties\": {\n        \"dtype\": \"number\",\n        \"std\": 0.49066281701388387,\n        \"min\": 2.65,\n        \"max\": 3.85,\n        \"num_unique_values\": 3,\n        \"samples\": [\n          2.8,\n          2.65,\n          3.85\n        ],\n        \"semantic_type\": \"\",\n        \"description\": \"\"\n      }\n    },\n    {\n      \"column\": \"flavanoids\",\n      \"properties\": {\n        \"dtype\": \"number\",\n        \"std\": 0.3329714702493295,\n        \"min\": 2.69,\n        \"max\": 3.49,\n        \"num_unique_values\": 5,\n        \"samples\": [\n          2.76,\n          2.69,\n          3.24\n        ],\n        \"semantic_type\": \"\",\n        \"description\": \"\"\n      }\n    },\n    {\n      \"column\": \"nonflavanoid_phenols\",\n      \"properties\": {\n        \"dtype\": \"number\",\n        \"std\": 0.05813776741499454,\n        \"min\": 0.24,\n        \"max\": 0.39,\n        \"num_unique_values\": 5,\n        \"samples\": [\n          0.26,\n          0.39,\n          0.3\n        ],\n        \"semantic_type\": \"\",\n        \"description\": \"\"\n      }\n    },\n    {\n      \"column\": \"proanthocyanins\",\n      \"properties\": {\n        \"dtype\": \"number\",\n        \"std\": 0.5688848741177779,\n        \"min\": 1.28,\n        \"max\": 2.81,\n        \"num_unique_values\": 5,\n        \"samples\": [\n          1.28,\n          1.82,\n          2.81\n        ],\n        \"semantic_type\": \"\",\n        \"description\": \"\"\n      }\n    },\n    {\n      \"column\": \"color_intensity\",\n      \"properties\": {\n        \"dtype\": \"number\",\n        \"std\": 1.4114106418757086,\n        \"min\": 4.32,\n        \"max\": 7.8,\n        \"num_unique_values\": 5,\n        \"samples\": [\n          4.38,\n          4.32,\n          5.68\n        ],\n        \"semantic_type\": \"\",\n        \"description\": \"\"\n      }\n    },\n    {\n      \"column\": \"hue\",\n      \"properties\": {\n        \"dtype\": \"number\",\n        \"std\": 0.08080841540334771,\n        \"min\": 0.86,\n        \"max\": 1.05,\n        \"num_unique_values\": 4,\n        \"samples\": [\n          1.05,\n          0.86,\n          1.04\n        ],\n        \"semantic_type\": \"\",\n        \"description\": \"\"\n      }\n    },\n    {\n      \"column\": \"od280/od315_of_diluted_wines\",\n      \"properties\": {\n        \"dtype\": \"number\",\n        \"std\": 0.36855121760753956,\n        \"min\": 2.93,\n        \"max\": 3.92,\n        \"num_unique_values\": 5,\n        \"samples\": [\n          3.4,\n          2.93,\n          3.17\n        ],\n        \"semantic_type\": \"\",\n        \"description\": \"\"\n      }\n    },\n    {\n      \"column\": \"proline\",\n      \"properties\": {\n        \"dtype\": \"number\",\n        \"std\": 268.5749429861244,\n        \"min\": 735.0,\n        \"max\": 1480.0,\n        \"num_unique_values\": 5,\n        \"samples\": [\n          1050.0,\n          735.0,\n          1185.0\n        ],\n        \"semantic_type\": \"\",\n        \"description\": \"\"\n      }\n    },\n    {\n      \"column\": \"target\",\n      \"properties\": {\n        \"dtype\": \"number\",\n        \"std\": 0,\n        \"min\": 0,\n        \"max\": 0,\n        \"num_unique_values\": 1,\n        \"samples\": [\n          0\n        ],\n        \"semantic_type\": \"\",\n        \"description\": \"\"\n      }\n    }\n  ]\n}"
            }
          },
          "metadata": {}
        },
        {
          "output_type": "display_data",
          "data": {
            "text/plain": [
              "<Figure size 800x600 with 1 Axes>"
            ],
            "image/png": "[encoded data removed]"
          },
          "metadata": {}
        }
      ]
    },
    {
      "cell_type": "code",
      "source": [
        "wine = load_wine()\n",
        "X = wine.data\n",
        "y = wine.target\n",
        "\n",
        "X_train, X_test, y_train, y_test = train_test_split(X, y, test_size=0.2, random_state=3151)\n",
        "\n",
        "# Train the Decision Tree model (your custom implementation)\n",
        "model = DecisionTree()\n",
        "model.fit(X_train, y_train)\n",
        "dt_preds = model.predict(X_test)\n",
        "\n",
        "# Train the KNN model\n",
        "knn = KNeighborsClassifier(n_neighbors=5)\n",
        "knn.fit(X_train, y_train)\n",
        "knn_preds = knn.predict(X_test)\n",
        "\n",
        "dt_accuracy = accuracy_score(y_test, dt_preds)\n",
        "knn_accuracy = accuracy_score(y_test, knn_preds)\n",
        "\n",
        "print(\"For the wine dataset, here are the results:\\n\")\n",
        "print(f\"Decision Tree Accuracy: {round(dt_accuracy, 3)}\")\n",
        "print(f\"KNN Accuracy: {round(knn_accuracy, 3)}\")\n"
      ],
      "metadata": {
        "id": "8UZljqmNjuee",
        "colab": {
          "base_uri": "https://localhost:8080/"
        },
        "outputId": "c3023467-6478-4bb3-8969-25ca5c71c22b"
      },
      "execution_count": 44,
      "outputs": [
        {
          "output_type": "stream",
          "name": "stdout",
          "text": [
            "For the wine dataset, here are the results:\n",
            "\n",
            "Decision Tree Accuracy: 0.944\n",
            "KNN Accuracy: 0.694\n"
          ]
        }
      ]
    },
    {
      "cell_type": "markdown",
      "source": [
        "Note: KNN does so poorly because of the structure of the data. If you add the following code then the KNN model does as well as DT:\n",
        "\n",
        "```python\n",
        "scaler = StandardScaler()\n",
        "X_train = scaler.fit_transform(X_train)\n",
        "X_test = scaler.transform(X_test)\n",
        "```"
      ],
      "metadata": {
        "id": "bgiRwdzjlka1"
      }
    },
    {
      "cell_type": "code",
      "source": [
        "scaler = StandardScaler()\n",
        "X_train_scaled = scaler.fit_transform(X_train)\n",
        "X_test_scaled = scaler.transform(X_test)\n",
        "\n",
        "knn = KNeighborsClassifier(n_neighbors=5)\n",
        "knn.fit(X_train_scaled, y_train)\n",
        "knn_preds = knn.predict(X_test_scaled)\n",
        "\n",
        "knn_accuracy = accuracy_score(y_test, knn_preds)\n",
        "\n",
        "print(f\"New KNN Accuracy: {round(knn_accuracy, 3)}\")"
      ],
      "metadata": {
        "id": "r3OVRY9bmf6A",
        "colab": {
          "base_uri": "https://localhost:8080/"
        },
        "outputId": "f807399f-ab88-40ab-c57f-cd0865405180"
      },
      "execution_count": 45,
      "outputs": [
        {
          "output_type": "stream",
          "name": "stdout",
          "text": [
            "New KNN Accuracy: 0.944\n"
          ]
        }
      ]
    },
    {
      "cell_type": "markdown",
      "source": [
        "### Questions About Results\n",
        "\n",
        "1. Did you expect DT and KNN to do equally well on the `make_moons` dataset? Can you give a simple example dataset where each of those algorithms would shine?\n",
        "\n",
        "2. Why does DT do so much better on the wine data than KNN? What drawbacks of KNN and/or features of DT add to this?\n",
        "\n",
        "3. Why does adding the scaling code (normalization) help improve the KNN algorithm by so much?"
      ],
      "metadata": {
        "id": "ZrMI3ZONl0QS"
      }
    },
    {
      "cell_type": "markdown",
      "source": [
        "### Answers 4.4\n",
        "\n",
        "1. No I did not expect this. In my expectation DT should do better than KNN.\n",
        "A sample dataset could be a dataset that both have the classes closely and have the boundaries clearly, and most importantly not noisy. For example it could be 10 points with class 1 in range 100-110, and 10 points with class 2 in range 10-20\n",
        "\n",
        "\n",
        "2. 1): the dataset is a bit noisy, 2): the unit vector of x axis is way larger than y axis, 3): the dimension  is too high in the dataset, which makes the distance between points becomes less meaningful, which decreases the sensitiveness of the algorithm.<br>\n",
        "DT becomes more sensitive as dimension grows and KNN becomes less sensitive; DT becomes more sensitive as any vector becomes larger, and KNN becomes less sensitive to distances as only one vector increases.\n",
        "\n",
        "\n",
        "3. The code helps to decrease the difference in unit vectors which helps KNN to become more sensitive to distances instead of being interrupted by only few large inputs and ignored the smaller inputs.\n",
        "\n",
        "\n",
        "---"
      ],
      "metadata": {
        "id": "sceA07MQ2-u1"
      }
    }
  ]
}